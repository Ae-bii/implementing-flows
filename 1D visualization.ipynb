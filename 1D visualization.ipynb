{
 "cells": [
  {
   "cell_type": "code",
   "execution_count": 4,
   "id": "514c47d2",
   "metadata": {},
   "outputs": [
    {
     "name": "stdout",
     "output_type": "stream",
     "text": [
      "7.998357923160768\n",
      "7.626589142200471\n",
      "7.600132485054197\n",
      "7.594700397983359\n",
      "7.593543897651051\n",
      "7.593296371394891\n",
      "7.5932433711351885\n",
      "7.593232021805671\n",
      "7.593229591449485\n",
      "7.593229071008784\n"
     ]
    },
    {
     "data": {
      "text/plain": [
       "(array([ 1.,  0.,  1.,  2.,  5.,  5.,  7.,  3.,  3.,  4.,  1.,  4.,  3.,\n",
       "        19.,  5.,  2.,  2.,  6.,  4.,  7.,  1.,  4.,  4.,  1.,  2.,  1.,\n",
       "         1.,  0.,  0.,  2.]),\n",
       " array([-3.61297439, -3.16971571, -2.72645704, -2.28319836, -1.83993968,\n",
       "        -1.396681  , -0.95342232, -0.51016364, -0.06690496,  0.37635372,\n",
       "         0.8196124 ,  1.26287108,  1.70612976,  2.14938844,  2.59264712,\n",
       "         3.0359058 ,  3.47916448,  3.92242316,  4.36568184,  4.80894052,\n",
       "         5.2521992 ,  5.69545788,  6.13871655,  6.58197523,  7.02523391,\n",
       "         7.46849259,  7.91175127,  8.35500995,  8.79826863,  9.24152731,\n",
       "         9.68478599]),\n",
       " <BarContainer object of 30 artists>)"
      ]
     },
     "execution_count": 4,
     "metadata": {},
     "output_type": "execute_result"
    },
    {
     "data": {
      "image/png": "[encoded data removed]",
      "text/plain": [
       "<Figure size 432x288 with 1 Axes>"
      ]
     },
     "metadata": {
      "needs_background": "light"
     },
     "output_type": "display_data"
    }
   ],
   "source": [
    "import numpy as np\n",
    "import random\n",
    "import math\n",
    "import numdifftools\n",
    "import matplotlib.pyplot as plt\n",
    "\n",
    "random.seed(0)\n",
    "np.random.seed(0)\n",
    "\n",
    "e = math.e\n",
    "pi = math.pi\n",
    "\n",
    "\n",
    "def F(z):\n",
    "    r = abs(z - np.median(MixtureSamples))\n",
    "    alpha = 0.5  # Not sure how to choose this value\n",
    "    return r * math.erf(r/alpha) + (alpha/math.sqrt(pi)) * math.pow(e, -(r/alpha) ** 2)\n",
    "\n",
    "\n",
    "def BetaCalculation():  # Through gradient descent\n",
    "    Proportion = 1  # Not sure how to choose this value\n",
    "    xSummationDerivative = 0\n",
    "    ySummationDerivative = 0\n",
    "    for i in range(0, len(MixtureSamples)):\n",
    "        xSummationDerivative += F(MixtureSamples[i])\n",
    "    for j in range(0, len(StandardNormalSamples)):\n",
    "        ySummationDerivative += F(StandardNormalSamples[j])\n",
    "    Beta = (-1/len(MixtureSamples)) * xSummationDerivative + \\\n",
    "        (1/len(StandardNormalSamples)) * ySummationDerivative\n",
    "    return Beta * Proportion\n",
    "\n",
    "\n",
    "def u(x, Beta):\n",
    "    return (x ** 2 / 2) + Beta * F(x)\n",
    "\n",
    "\n",
    "def uConjugate(y, Beta):\n",
    "    ConvexCandidate = []\n",
    "    for i in range(0, len(MixtureSamples)):\n",
    "        ConvexCandidate.append(\n",
    "            (MixtureSamples[i] * y) - u(MixtureSamples[i], Beta))\n",
    "\n",
    "    return max(ConvexCandidate)\n",
    "\n",
    "\n",
    "def MixtureSampleGenerator():\n",
    "    SubSamples1 = np.random.normal(0, 2, 100)\n",
    "    SubSamples2 = np.random.normal(6, 2, 100)\n",
    "    MixtureSamples = []\n",
    "    for i in range(0, 100):\n",
    "        RandomSelector = random.random()\n",
    "        if RandomSelector < 0.7:\n",
    "            MixtureSamples.append(SubSamples1[i])\n",
    "        else:\n",
    "            MixtureSamples.append(SubSamples2[i])\n",
    "    # So with probability 0.7, choose from subsample 1, otherwise choose from subsample 2\n",
    "    MixtureSamples = np.array(MixtureSamples)\n",
    "    return MixtureSamples\n",
    "\n",
    "\n",
    "def LLCalculation(Beta):\n",
    "    xSummation = 0\n",
    "    ySummation = 0\n",
    "    for i in range(0, len(MixtureSamples)):\n",
    "        xSummation += u(MixtureSamples[i], Beta)\n",
    "    for j in range(0, len(StandardNormalSamples)):\n",
    "        ySummation += uConjugate(StandardNormalSamples[j], Beta)\n",
    "\n",
    "    LL = 1/len(MixtureSamples) * xSummation + 1 / \\\n",
    "        len(StandardNormalSamples) * ySummation\n",
    "\n",
    "    return LL\n",
    "\n",
    "\n",
    "def SamplesUpdate(MixtureSamples):\n",
    "    NewMixtureSamples = []\n",
    "    for i in range(0, len(MixtureSamples)):\n",
    "        NewMixtureSamples.append(MixtureSamples[i] + Beta * numdifftools.Gradient(F)([MixtureSamples[i]]))\n",
    "    NewMixtureSamples = np.array(NewMixtureSamples)\n",
    "\n",
    "    return NewMixtureSamples\n",
    "\n",
    "\n",
    "StandardNormalSamples = np.random.standard_normal(100)\n",
    "MixtureSamples = MixtureSampleGenerator()\n",
    "plt.hist(MixtureSamples, bins=30)\n",
    "\n",
    "for i in range(0, 10):\n",
    "    Beta = BetaCalculation()\n",
    "    MixtureSamples = SamplesUpdate(MixtureSamples)\n",
    "    LL = LLCalculation(Beta)\n",
    "    print(LL)\n",
    "plt.hist(MixtureSamples, bins=30)\n"
   ]
  }
 ],
 "metadata": {
  "kernelspec": {
   "display_name": "Python 3 (ipykernel)",
   "language": "python",
   "name": "python3"
  },
  "language_info": {
   "codemirror_mode": {
    "name": "ipython",
    "version": 3
   },
   "file_extension": ".py",
   "mimetype": "text/x-python",
   "name": "python",
   "nbconvert_exporter": "python",
   "pygments_lexer": "ipython3",
   "version": "3.9.12"
  }
 },
 "nbformat": 4,
 "nbformat_minor": 5
}
