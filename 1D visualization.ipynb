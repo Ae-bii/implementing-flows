{
 "cells": [
  {
   "cell_type": "code",
   "execution_count": 2,
   "id": "514c47d2",
   "metadata": {},
   "outputs": [
    {
     "name": "stdout",
     "output_type": "stream",
     "text": [
      "7.998357923160773\n",
      "7.6265891422004986\n",
      "7.600132485054228\n",
      "7.594700397983391\n",
      "7.593543897651086\n",
      "7.593296371394929\n",
      "7.593243371135225\n",
      "7.593232021805701\n",
      "7.593229591449521\n",
      "7.593229071008816\n"
     ]
    },
    {
     "data": {
      "text/plain": [
       "(0.0, 10.0)"
      ]
     },
     "execution_count": 2,
     "metadata": {},
     "output_type": "execute_result"
    },
    {
     "data": {
      "image/png": "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",
      "text/plain": [
       "<Figure size 432x288 with 1 Axes>"
      ]
     },
     "metadata": {
      "needs_background": "light"
     },
     "output_type": "display_data"
    }
   ],
   "source": [
    "import numpy as np\n",
    "import random\n",
    "import math\n",
    "import numdifftools\n",
    "import matplotlib.pyplot as plt\n",
    "\n",
    "random.seed(0)\n",
    "np.random.seed(0)\n",
    "\n",
    "e = math.e\n",
    "pi = math.pi\n",
    "\n",
    "\n",
    "def F(z):\n",
    "    r = abs(z - np.median(MixtureSamples))\n",
    "    alpha = 0.5  # Not sure how to choose this value\n",
    "    return r * math.erf(r/alpha) + (alpha/math.sqrt(pi)) * math.pow(e, -(r/alpha) ** 2)\n",
    "\n",
    "\n",
    "def BetaCalculation():  # Through gradient descent\n",
    "    Proportion = 1  # Not sure how to choose this value\n",
    "    xSummationDerivative = 0\n",
    "    ySummationDerivative = 0\n",
    "    for i in range(0, len(MixtureSamples)):\n",
    "        xSummationDerivative += F(MixtureSamples[i])\n",
    "    for j in range(0, len(StandardNormalSamples)):\n",
    "        ySummationDerivative += F(StandardNormalSamples[j])\n",
    "    Beta = (-1/len(MixtureSamples)) * xSummationDerivative + \\\n",
    "        (1/len(StandardNormalSamples)) * ySummationDerivative\n",
    "    return Beta * Proportion\n",
    "\n",
    "\n",
    "def u(x, Beta):\n",
    "    return (x ** 2 / 2) + Beta * F(x)\n",
    "\n",
    "\n",
    "def uConjugate(y, Beta):\n",
    "    ConvexCandidate = []\n",
    "    for i in range(0, len(MixtureSamples)):\n",
    "        ConvexCandidate.append(\n",
    "            (MixtureSamples[i] * y) - u(MixtureSamples[i], Beta))\n",
    "\n",
    "    return max(ConvexCandidate)\n",
    "\n",
    "\n",
    "def MixtureSampleGenerator():\n",
    "    SubSamples1 = np.random.normal(0, 2, 100)\n",
    "    SubSamples2 = np.random.normal(6, 2, 100)\n",
    "    MixtureSamples = []\n",
    "    for i in range(0, 100):\n",
    "        RandomSelector = random.random()\n",
    "        if RandomSelector < 0.7:\n",
    "            MixtureSamples.append(SubSamples1[i])\n",
    "        else:\n",
    "            MixtureSamples.append(SubSamples2[i])\n",
    "    # So with probability 0.7, choose from subsample 1, otherwise choose from subsample 2\n",
    "    MixtureSamples = np.array(MixtureSamples)\n",
    "    return MixtureSamples\n",
    "\n",
    "\n",
    "def LLCalculation(Beta):\n",
    "    xSummation = 0\n",
    "    ySummation = 0\n",
    "    for i in range(0, len(MixtureSamples)):\n",
    "        xSummation += u(MixtureSamples[i], Beta)\n",
    "    for j in range(0, len(StandardNormalSamples)):\n",
    "        ySummation += uConjugate(StandardNormalSamples[j], Beta)\n",
    "\n",
    "    LL = 1/len(MixtureSamples) * xSummation + 1 / \\\n",
    "        len(StandardNormalSamples) * ySummation\n",
    "\n",
    "    return LL\n",
    "\n",
    "\n",
    "def SamplesUpdate(MixtureSamples):\n",
    "    NewMixtureSamples = []\n",
    "    for i in range(0, len(MixtureSamples)):\n",
    "        NewMixtureSamples.append(MixtureSamples[i] + Beta * numdifftools.Gradient(F)([MixtureSamples[i]]))\n",
    "    NewMixtureSamples = np.array(NewMixtureSamples)\n",
    "\n",
    "    return NewMixtureSamples\n",
    "\n",
    "\n",
    "StandardNormalSamples = np.random.standard_normal(100)\n",
    "MixtureSamples = MixtureSampleGenerator()\n",
    "plt.hist(MixtureSamples, bins=30)\n",
    "\n",
    "for i in range(0, 10):\n",
    "    Beta = BetaCalculation()\n",
    "    MixtureSamples = SamplesUpdate(MixtureSamples)\n",
    "    LL = LLCalculation(Beta)\n",
    "    print(LL)\n",
    "plt.hist(MixtureSamples, bins=30)\n"
    "plt.show()\n"
   ]
  }
 ],
 "metadata": {
  "kernelspec": {
   "display_name": "Python 3.9.2 64-bit",
   "language": "python",
   "name": "python3"
  },
  "language_info": {
   "codemirror_mode": {
    "name": "ipython",
    "version": 3
   },
   "file_extension": ".py",
   "mimetype": "text/x-python",
   "name": "python",
   "nbconvert_exporter": "python",
   "pygments_lexer": "ipython3",
   "version": "3.9.2"
  },
  "vscode": {
   "interpreter": {
    "hash": "aee8b7b246df8f9039afb4144a1f6fd8d2ca17a180786b69acc140d282b71a49"
   }
  }
 },
 "nbformat": 4,
 "nbformat_minor": 5
}
