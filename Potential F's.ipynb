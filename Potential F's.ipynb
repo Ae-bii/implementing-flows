{
 "cells": [
  {
   "cell_type": "code",
   "execution_count": null,
   "id": "4e605560",
   "metadata": {},
   "outputs": [],
   "source": [
    "# Bump Function\n",
    "def F(z):\n",
    "    value = 0\n",
    "    r = abs(z - center)\n",
    "    alpha = 0.5  # Consistent with the density \n",
    "    if r < 1/alpha:\n",
    "        value = math.pow(e, -(1/(1-(alpha*r)**2)))\n",
    "    return value"
   ]
  },
  {
   "cell_type": "code",
   "execution_count": null,
   "id": "6b9e4bcb",
   "metadata": {},
   "outputs": [],
   "source": [
    "# Giulio's example\n",
    "def F(z):\n",
    "    r = abs(z - center)\n",
    "    alpha = 2  # Consistent with the density \n",
    "    return r * math.erf(r/alpha) + (alpha/math.sqrt(pi)) * math.pow(e, -(r/alpha) ** 2)"
   ]
  },
  {
   "cell_type": "code",
   "execution_count": null,
   "id": "7ffa56a0",
   "metadata": {},
   "outputs": [],
   "source": [
    "# Guassian\n",
    "def F(z):\n",
    "    r = abs(z - z_center)\n",
    "    aplha = 1\n",
    "    return math.pow(e, -((alpha*r)**2))"
   ]
  },
  {
   "cell_type": "code",
   "execution_count": null,
   "id": "8a4a5723",
   "metadata": {},
   "outputs": [],
   "source": [
    "# Multiquadric\n",
    "def F(z):\n",
    "    r = abs(z - z_center)\n",
    "    aplha = 1\n",
    "    return math.sqrt(1+(alpha*r)**2)"
   ]
  },
  {
   "cell_type": "code",
   "execution_count": null,
   "id": "f0130f19",
   "metadata": {},
   "outputs": [],
   "source": [
    "# Inverse Quadratic\n",
    "def F(z):\n",
    "    r = abs(z - z_center)\n",
    "    aplha = 1\n",
    "    return 1/(1+(alpha*r)**2)"
   ]
  },
  {
   "cell_type": "code",
   "execution_count": null,
   "id": "b9044007",
   "metadata": {},
   "outputs": [],
   "source": [
    "# Inverse Multiquaric\n",
    "def F(z):\n",
    "    r = abs(z - z_center)\n",
    "    aplha = 1\n",
    "    return 1/math.sqrt(1+(alpha*r)**2)"
   ]
  },
  {
   "cell_type": "code",
   "execution_count": null,
   "id": "b75d08b2",
   "metadata": {},
   "outputs": [],
   "source": [
    "# Polyharmonic Spline\n",
    "def F(z, k): #k is the iteration so this would require some further implementation\n",
    "    r = abs(z - z_center)\n",
    "    if k%2 == 0:\n",
    "        return r**(k-1)*np.log(r**r) \n",
    "    else:\n",
    "        return r**k"
   ]
  },
  {
   "cell_type": "code",
   "execution_count": null,
   "id": "8f46dc6a",
   "metadata": {},
   "outputs": [],
   "source": [
    "# Thin Plate Spline\n",
    "def F(z):\n",
    "    r = abs(z - z_center)\n",
    "    return r**2*np.log(r)"
   ]
  }
 ],
 "metadata": {
  "kernelspec": {
   "display_name": "Python 3.9.2 64-bit",
   "language": "python",
   "name": "python3"
  },
  "language_info": {
   "codemirror_mode": {
    "name": "ipython",
    "version": 3
   },
   "file_extension": ".py",
   "mimetype": "text/x-python",
   "name": "python",
   "nbconvert_exporter": "python",
   "pygments_lexer": "ipython3",
   "version": "3.9.2"
  },
  "vscode": {
   "interpreter": {
    "hash": "aee8b7b246df8f9039afb4144a1f6fd8d2ca17a180786b69acc140d282b71a49"
   }
  }
 },
 "nbformat": 4,
 "nbformat_minor": 5
}
